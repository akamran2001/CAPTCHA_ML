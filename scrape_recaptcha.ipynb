{
 "cells": [
  {
   "cell_type": "code",
   "execution_count": 28,
   "metadata": {},
   "outputs": [],
   "source": [
    "from selenium import webdriver\n",
    "from selenium.webdriver.common.by import By\n",
    "from selenium.webdriver.support.ui import WebDriverWait\n",
    "from selenium.webdriver.support import expected_conditions as EC\n",
    "import requests\n",
    "import os"
   ]
  },
  {
   "cell_type": "code",
   "execution_count": 29,
   "metadata": {},
   "outputs": [],
   "source": [
    "captcha_site = 'https://www.google.com/recaptcha/api2/demo'\n",
    "num_images = 10\n",
    "output_folder = 'captchas/recaptcha/'"
   ]
  },
  {
   "cell_type": "code",
   "execution_count": 31,
   "metadata": {},
   "outputs": [],
   "source": [
    "# create a new instance of the Chrome browser\n",
    "driver = webdriver.Chrome()\n",
    "\n",
    "# navigate to the website\n",
    "driver.get(captcha_site)\n",
    "\n",
    "# wait for reCAPTCHA iframe to load and switch to it\n",
    "wait = WebDriverWait(driver, 10)\n",
    "recaptcha_iframe = wait.until(EC.frame_to_be_available_and_switch_to_it((By.CSS_SELECTOR, 'iframe[title=\"reCAPTCHA\"]')))\n",
    "\n",
    "# wait for div#rc-anchor-container to load and click on div.recaptcha-checkbox-border\n",
    "recaptcha_wait = WebDriverWait(driver, 10)\n",
    "recaptcha = recaptcha_wait.until(EC.presence_of_element_located((By.ID, 'rc-anchor-container')))\n",
    "recaptcha.click()\n",
    "\n",
    "# switch back to the main frame and wait for the \"recaptcha challenge expires in two minutes\" iframe to load\n",
    "driver.switch_to.default_content()\n",
    "challenge_iframe = wait.until(EC.frame_to_be_available_and_switch_to_it((By.CSS_SELECTOR, 'iframe[title=\"recaptcha challenge expires in two minutes\"]')))\n",
    "\n",
    "\n",
    "# download the next image\n",
    "for i in range(num_images):\n",
    "    # find the captcha image element and get its source and class name\n",
    "    image = wait.until(EC.presence_of_element_located((By.CSS_SELECTOR, 'img[src*=\"api2/payload\"]')))\n",
    "    image_src = image.get_attribute('src')\n",
    "    class_name = image.get_attribute('class')\n",
    "\n",
    "    # create subfolder for the class name of the image\n",
    "    class_folder = os.path.join(output_folder, class_name)\n",
    "    if not os.path.exists(class_folder):\n",
    "        os.makedirs(class_folder)\n",
    "\n",
    "    label_folder = None\n",
    "    # get the label of the image\n",
    "    if class_name=='rc-image-tile-44':\n",
    "        label = driver.find_element(By.TAG_NAME, 'strong').text\n",
    "        label_folder = os.path.join(class_folder, label)\n",
    "        if not os.path.exists(label_folder):\n",
    "            os.makedirs(label_folder)\n",
    "\n",
    "    # download the image\n",
    "    filename = f'captcha_{i}.png'\n",
    "    response = requests.get(image_src)\n",
    "\n",
    "    f_out = os.path.join(class_folder, filename) if label_folder is None else os.path.join(label_folder, filename)\n",
    "    with open(f_out, \"wb\") as f:\n",
    "        f.write(response.content)\n",
    "\n",
    "    # find the reload button and click it\n",
    "    reload_button = driver.find_element(By.ID,'recaptcha-reload-button')\n",
    "    reload_button.click()\n",
    "\n",
    "    # wait for the next image to load\n",
    "    wait.until(EC.staleness_of(image))\n",
    "\n",
    "# switch back to the main frame and quit the browser\n",
    "driver.switch_to.default_content()\n",
    "driver.quit()\n"
   ]
  }
 ],
 "metadata": {
  "kernelspec": {
   "display_name": "tf",
   "language": "python",
   "name": "python3"
  },
  "language_info": {
   "codemirror_mode": {
    "name": "ipython",
    "version": 3
   },
   "file_extension": ".py",
   "mimetype": "text/x-python",
   "name": "python",
   "nbconvert_exporter": "python",
   "pygments_lexer": "ipython3",
   "version": "3.9.16"
  },
  "orig_nbformat": 4
 },
 "nbformat": 4,
 "nbformat_minor": 2
}
