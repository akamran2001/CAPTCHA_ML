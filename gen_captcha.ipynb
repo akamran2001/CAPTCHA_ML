{
 "cells": [
  {
   "cell_type": "code",
   "execution_count": 49,
   "metadata": {},
   "outputs": [],
   "source": [
    "import os\n",
    "import random\n",
    "import cv2\n",
    "import numpy as np\n",
    "\n",
    "# Set the path to your image folder\n",
    "image_folder = \"captchas/images\"\n",
    "output_folder = \"captchas/grid_images\"\n",
    "num_outputs = 100\n",
    "\n",
    "if not os.path.exists(output_folder):\n",
    "        os.makedirs(output_folder)\n",
    "\n",
    "# Create a list to store all image filenames\n",
    "image_filenames = []\n",
    "\n",
    "# Loop through all subfolders and append the image filenames to the list\n",
    "for root, dirs, files in os.walk(image_folder):\n",
    "    for file in files:\n",
    "        if file.lower().endswith(('.png', '.jpg', '.jpeg')):\n",
    "            image_filenames.append(os.path.join(root, file))\n",
    "\n",
    "\n",
    "for out in range(num_outputs):\n",
    "    # Choose 9 random images from the list\n",
    "    random_images = random.sample(image_filenames, 9)\n",
    "\n",
    "    # Create a 3x3 grid of black images using NumPy\n",
    "    grid = np.zeros((360, 360, 3), dtype=np.uint8)\n",
    "\n",
    "    # Loop through the random images and paste them into the grid\n",
    "    for i, image_filename in enumerate(random_images):\n",
    "        # Load the image using OpenCV\n",
    "        image = cv2.imread(image_filename)\n",
    "        # Resize the image to fit in a 120x120 box\n",
    "        image = cv2.resize(image, (120, 120))\n",
    "        # Calculate the row and column indices for this image\n",
    "        row = i // 3\n",
    "        col = i % 3\n",
    "        # Calculate the upper-left corner of this image's position in the grid\n",
    "        x = col * 120\n",
    "        y = row * 120\n",
    "        # Paste the image into the grid\n",
    "        grid[y:y+120, x:x+120, :] = image\n",
    "\n",
    "    # Convert the NumPy array back to a PIL image\n",
    "    grid_image = Image.fromarray(grid)\n",
    "    output_filename = os.path.join(output_folder, f\"grid_{out}.jpg\")\n",
    "    grid_image.save(output_filename)\n"
   ]
  }
 ],
 "metadata": {
  "kernelspec": {
   "display_name": "tf",
   "language": "python",
   "name": "python3"
  },
  "language_info": {
   "codemirror_mode": {
    "name": "ipython",
    "version": 3
   },
   "file_extension": ".py",
   "mimetype": "text/x-python",
   "name": "python",
   "nbconvert_exporter": "python",
   "pygments_lexer": "ipython3",
   "version": "3.9.16"
  },
  "orig_nbformat": 4
 },
 "nbformat": 4,
 "nbformat_minor": 2
}
